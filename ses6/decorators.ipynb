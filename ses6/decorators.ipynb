{
 "cells": [
  {
   "cell_type": "markdown",
   "metadata": {},
   "source": [
    "Decorators\n",
    "\n"
   ]
  },
  {
   "cell_type": "code",
   "execution_count": 4,
   "metadata": {},
   "outputs": [
    {
     "name": "stdout",
     "output_type": "stream",
     "text": [
      "Hello\n"
     ]
    },
    {
     "data": {
      "text/plain": [
       "int"
      ]
     },
     "execution_count": 4,
     "metadata": {},
     "output_type": "execute_result"
    }
   ],
   "source": [
    "#der er altid en returværdi, der står altid return None hvis man ikke skriver noget\n",
    "\n",
    "def foo():\n",
    "    print('Hello')\n",
    "\n",
    "type(print('Hello'))\n",
    "\n",
    "def add(num):\n",
    "    return num+num\n",
    "#returtype?  skulle tro det var en int/nummer men det er det ikke, det kan være hvad som helst\n",
    "#strings kan også addes\n",
    "\n",
    "type(add(6))"
   ]
  },
  {
   "cell_type": "markdown",
   "metadata": {},
   "source": [
    "first class functions\n",
    "\n",
    "kan tage imod funktion som parameter\n",
    "kan returnere en funktion"
   ]
  },
  {
   "cell_type": "code",
   "execution_count": 5,
   "metadata": {},
   "outputs": [
    {
     "data": {
      "text/plain": [
       "2"
      ]
     },
     "execution_count": 5,
     "metadata": {},
     "output_type": "execute_result"
    }
   ],
   "source": [
    "def foo(x):\n",
    "    return x\n",
    "\n",
    "foo(len)  #tager og returnere længefunktion\n",
    "#er uden (), tager funktionsreferencen\n",
    "\n",
    "foo   #udskriver funktionsreference, add er bare et variabelnavn, len er også\n",
    "#len er et variabelnavn som har værdien funktion, de er variabler som kan kaldes\n",
    "\n",
    "callable(len) #tjek om et objekt er callable, len er true\n",
    "\n",
    "#len = 12 # udskriver at len er 12\n",
    "#len()  #giver fejl for nu er len ikke callable\n",
    "#nu er len ikke længere i vores system, skal restarte programmet\n",
    "#der er ingen strict mode i python, vi må bare huske pythons egne funktioner/identifiers\n",
    "\n",
    "add = lambda x : x + x\n",
    "add(1)\n",
    "\n"
   ]
  },
  {
   "cell_type": "code",
   "execution_count": 8,
   "metadata": {},
   "outputs": [
    {
     "data": {
      "text/plain": [
       "4"
      ]
     },
     "execution_count": 8,
     "metadata": {},
     "output_type": "execute_result"
    }
   ],
   "source": [
    "foo = foo(len)\n",
    "foo([1,2,3,4])"
   ]
  },
  {
   "cell_type": "markdown",
   "metadata": {},
   "source": [
    "inner functions"
   ]
  },
  {
   "cell_type": "code",
   "execution_count": 17,
   "metadata": {},
   "outputs": [
    {
     "name": "stdout",
     "output_type": "stream",
     "text": [
      "None\n",
      "<function outer.<locals>.inner at 0x7f37706ab0a0>\n",
      "Hello from inner\n"
     ]
    },
    {
     "data": {
      "text/plain": [
       "'Hello from inner'"
      ]
     },
     "execution_count": 17,
     "metadata": {},
     "output_type": "execute_result"
    }
   ],
   "source": [
    "def outer():\n",
    "    \n",
    "    def inner():\n",
    "        return 'Hello from inner'\n",
    "\n",
    "outer()  #returnerer None, printer ikke noget fordi jupyter notebook ikke printer None uden print()\n",
    "print(outer()) #printer None, husk til eksamen\n",
    "\n",
    "def outer():\n",
    "    \n",
    "    def inner():\n",
    "        return 'Hello from inner'\n",
    "    return inner\n",
    "\n",
    "outer()\n",
    "print(outer())  #printer funktionsreferencen, spørg, her reference, tidligere ikke reference\n",
    "outer()()\n",
    "\n",
    "def outer():\n",
    "    \n",
    "    def inner():\n",
    "        return 'Hello from inner'\n",
    "    return inner()  #paranteser nu, returnere Hello from inner fordi den nu kaldes\n",
    "\n",
    "print(outer())\n",
    "\n",
    "add = outer\n",
    "add()\n",
    "#outer()() #kalder funktioner i røven på hinanden, function chaining/function composition, ved function chaining \n",
    "# behøver funktionerne ikke være nestet, fx result = subtract(multiply(add(5))), her er hver funktion sin egen, de kaldes bare så at den enes returværdi er den andens argument\n",
    "#her giver fejl, str is not callable, sker fordi nu har inner() paranteser\n",
    "#giver ikke fejl hvis den kun er inner, for så laver vi funktionskaldet på outer()()'s sidste parantes\n",
    "#hvorimod har inner() paranteser så returnere den en streng og den kan ikke kaldes\n",
    "# ()() den syntaks er ligesom Anders brugte med at importere og instantiere express i én linje\n",
    "\n",
    "#ved ydre og indre funktioner, hvor den indre kaldes i den ydre, hedder\n",
    "# immediatly-invoked function expression IIFE, fordi den indre kaldes med det samme når den ydre\n",
    "# kaldes\n",
    "#det er både en IIFE når outer() kaldes sådan mens inner() kaldes sådan inden i outer\n",
    "# og også når inner er uden parantes og at outer og inner kaldes i ét: outer()()\n"
   ]
  },
  {
   "cell_type": "markdown",
   "metadata": {},
   "source": [
    "decorator\n",
    "se flask ting bruger det, her\n"
   ]
  },
  {
   "cell_type": "code",
   "execution_count": 29,
   "metadata": {},
   "outputs": [],
   "source": [
    "def myDecorator(func):   #vi vil have message() ind her, tages ind som func\n",
    "    def wrapper(*args):    #vi vil have en indre funktion, kunne hede inner, den kaldes bare ofte wrapper\n",
    "        #i stedet for x i () er det *args så den kan tage hvad som helst\n",
    "        x = 'Hello from wrapper - '\n",
    "        x += func(*args)   #vi vil have at Hello from wrapper tilføges Hello (fra message)\n",
    "        #så vi tager funktion ind som siger Hello og kalder den (husk paranteser!) så vi kan adde dens returværdi, Hello, til Hello from wrapper\n",
    "        x += ' - end of wrapper'\n",
    "        return x\n",
    "    return wrapper  #returnere hele wrapper funktionen, sådan skal det være, den skal ikke eksekveres"
   ]
  },
  {
   "cell_type": "code",
   "execution_count": 32,
   "metadata": {},
   "outputs": [
    {
     "data": {
      "text/plain": [
       "'Hello from wrapper Hello Claus - end of wrapper'"
      ]
     },
     "execution_count": 32,
     "metadata": {},
     "output_type": "execute_result"
    }
   ],
   "source": [
    "def message(x):   #grundfunktion\n",
    "    return f'Hello {x}'\n",
    "\n",
    "#message()\n",
    "#vi vil have mere på message(), den skal udskrive mere en Hello, ændres i wrapper\n",
    "\n",
    "myDecorator(message)  #bruger wrapper, funktion er argument uden eksekvering ()\n",
    "#er funktionsreference\n",
    "\n",
    "x = myDecorator(message)\n",
    "\n",
    "#x()  #giver det man forventer: 'Hello from wrapperHello - end of wrapper'\n",
    "\n",
    "#man vil ikke kalde det x, den skal hedde samme navn som grundfunktion, selvom de ikke er samme ting\n",
    "#det er konvention at de skal hedde samme navn, det skal ligne at det er grundfunktionen man kalder\n",
    "#har jeg lavet noget library code kan claus ændre den med decorators, kan lave bug fix osv uden at\n",
    "# jeg lægger mærke til det/at det ændre library code \n",
    "\n",
    "message = myDecorator(message)\n",
    "\n",
    "message('Claus')\n"
   ]
  },
  {
   "cell_type": "markdown",
   "metadata": {},
   "source": [
    "Small exercises\n",
    "\n",
    "Write a decorator that writes to a log file the time stamp of each time this function is called.\n",
    "\n",
    "Change the log decorator to also printing the values of the argument together with the timestamp.\n",
    "\n",
    "Print the result of the decorated function to the log file also.\n",
    "\n",
    "Create a new function and call it printer(text) that takes a text as parameter and returns the text. Decorate it with your logfunction. Does it work?\n"
   ]
  },
  {
   "cell_type": "code",
   "execution_count": 55,
   "metadata": {},
   "outputs": [
    {
     "data": {
      "text/plain": [
       "'test printer'"
      ]
     },
     "execution_count": 55,
     "metadata": {},
     "output_type": "execute_result"
    }
   ],
   "source": [
    "from datetime import datetime #er i standard library så ingen pip\n",
    "#kunne også bare stå import datetime, nu tager vi bare datetime funktion? fra datetime modul, de hedder bare det samme\n",
    "# nu bruger vi kun datetime class fra datetime module\n",
    "\n",
    "def logging_decorator(func):\n",
    "    def wrapper(*args):\n",
    "        current_datetime = str(datetime.now())  #husk paranteser ellers får man funktionsreference\n",
    "        f = open('log.txt', 'a')\n",
    "        f.write(f'timstamp: {current_datetime}, numbers to be added: {args}, result: {func(*args)} \\n')\n",
    "        return func(*args)   #hvad vil man returnere, det er bare for at se at det virker nu\n",
    "                #paranteser her hvis man ikke bare vil returnere reference, men uden argumenter giver resultatet 0\n",
    "                #så husk *args, de giver argumenter videre til add() funktionen, så add(34,23) gives til decorator\n",
    "                #som func, nej, add = logging_decorator(add) her gives add som func, der er ingen argumenter,\n",
    "                #det er den rene funktion. Argumenter gives senere\n",
    "                #når argumenter gives så er det der logging_decorator(34,23) gives\n",
    "    return wrapper\n",
    "\n",
    "@logging_decorator\n",
    "def add(*args):   #grundfunktion\n",
    "    return sum(args)\n",
    "#annotering er syntaktisk sukker\n",
    "\n",
    "#add = logging_decorator(add) med annotering, @logging_decorator over grundfunktionen, sker dette bagom: add = logging_decorator(add)\n",
    "#man bruger @ når man tager andres decorators ind og bruger på dine egne funktioner\n",
    "# man bruger add = logging_decorator(add) når man laver sin egen decorator til andres funktion\n",
    "#for tager vi andres funktion ind kan vi jo ikke skrive @decorator over den, så derfor gør edt manuelt\n",
    "#tænkte over det ford hvis man har grundfunktion med annotering før decorator giver den fejl fordi\n",
    "#decorator ikke er defineret endnu\n",
    "\n",
    "add(34,23)\n",
    "\n",
    "\n",
    "def printer(x):\n",
    "    return x\n",
    "\n",
    "printer = logging_decorator(printer)  #ny grundfunktion printer som vi bruger decorator på\n",
    "printer('test printer')               #decorator virker på den men bruger jo \"numbers to be added\" osv\n",
    "                                      #claus har ikke ekstra tekst i dekoratoren, så printer ser ok ud i fil\n",
    "\n",
    "\n"
   ]
  }
 ],
 "metadata": {
  "kernelspec": {
   "display_name": ".venv",
   "language": "python",
   "name": "python3"
  },
  "language_info": {
   "codemirror_mode": {
    "name": "ipython",
    "version": 3
   },
   "file_extension": ".py",
   "mimetype": "text/x-python",
   "name": "python",
   "nbconvert_exporter": "python",
   "pygments_lexer": "ipython3",
   "version": "3.10.12"
  },
  "orig_nbformat": 4
 },
 "nbformat": 4,
 "nbformat_minor": 2
}
